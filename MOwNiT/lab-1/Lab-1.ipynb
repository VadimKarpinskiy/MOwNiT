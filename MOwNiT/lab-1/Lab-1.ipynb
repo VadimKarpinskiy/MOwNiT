{
 "cells": [
  {
   "cell_type": "markdown",
   "metadata": {},
   "source": [
    "# Metody obliczeniowe w nauce i technice"
   ]
  },
  {
   "cell_type": "markdown",
   "metadata": {},
   "source": [
    "## Vadim Karpinskiy"
   ]
  },
  {
   "cell_type": "markdown",
   "metadata": {},
   "source": [
    "### Laboratorium 1: Arytmetyka komputerowa"
   ]
  },
  {
   "cell_type": "markdown",
   "metadata": {},
   "source": [
    "Programy, przedstawione w danym sprawozdaniu, są napisane w języku Python. Niestety, standardowa biblioteka Python nie obsługuje liczb pojedynczej precyzji. W celu dostarczenia takiej możliwości możemy zainstalować bibliotekę NumPy (Numerical Python), np. za pomocą następującej komendy:"
   ]
  },
  {
   "cell_type": "code",
   "execution_count": null,
   "metadata": {
    "scrolled": true
   },
   "outputs": [],
   "source": [
    "!pip install numpy --user"
   ]
  },
  {
   "cell_type": "markdown",
   "metadata": {},
   "source": [
    "W celu tworzenia wykresów wykorzystamy bibliotekę Matplotlib:"
   ]
  },
  {
   "cell_type": "code",
   "execution_count": null,
   "metadata": {},
   "outputs": [],
   "source": [
    "!pip install matplotlib --user"
   ]
  },
  {
   "cell_type": "markdown",
   "metadata": {},
   "source": [
    "#### Zadanie 1: Sumowanie liczb pojedynczej precyzji"
   ]
  },
  {
   "cell_type": "markdown",
   "metadata": {},
   "source": [
    "Poniższy program oblicza sumę N liczb pojedynczej precyzji przechowywanych w tablicy o rozmiarze N. Tablica wypełniona jest tą samą wartością v z przedziału [0.1, 0.9]."
   ]
  },
  {
   "cell_type": "code",
   "execution_count": null,
   "metadata": {},
   "outputs": [],
   "source": [
    "import numpy as np\n",
    "\n",
    "N = 10000000\n",
    "v = np.float32(0.53125)\n",
    "arr = [v]*N\n",
    "sum_arr = [v]*N\n",
    "\n",
    "def simple_sum():\n",
    "    res = np.float32(0.0)\n",
    "    for i in range(len(arr)):\n",
    "        res += arr[i]\n",
    "        sum_arr[i] = res\n",
    "    return res\n",
    "\n",
    "res = simple_sum()\n",
    "print(res)"
   ]
  },
  {
   "cell_type": "markdown",
   "metadata": {},
   "source": [
    "Wyznaczymy błędy obliczeń, korzystając ze wzorów, przedstawionych poniżej:"
   ]
  },
  {
   "cell_type": "markdown",
   "metadata": {},
   "source": [
    "**Błąd bezwzględny**:\n",
    "$$\n",
    "\\Delta{x} = |x - x_{0}|\n",
    "$$ gdzie:   \n",
    "$x$ - wartość dokładna,    \n",
    "$𝑥_{0}$ - wartość obliczona"
   ]
  },
  {
   "cell_type": "code",
   "execution_count": null,
   "metadata": {},
   "outputs": [],
   "source": [
    "absolute_error = abs(v*N - res)\n",
    "print(absolute_error)"
   ]
  },
  {
   "cell_type": "markdown",
   "metadata": {},
   "source": [
    "**Błąd względny**:\n",
    "$$\n",
    "\\delta = \\frac{\\Delta{x}}{x} = \\frac{|x - x_{0}|}{x}\n",
    "$$ gdzie:     \n",
    "$\\Delta{x}$ - błąd bezwzględny obliczeń,    \n",
    "$x$ - wartość dokładna,    \n",
    "$𝑥_{0}$ - wartość obliczona"
   ]
  },
  {
   "cell_type": "code",
   "execution_count": null,
   "metadata": {},
   "outputs": [],
   "source": [
    "relative_error = absolute_error / (v*N)\n",
    "print(relative_error)"
   ]
  },
  {
   "cell_type": "markdown",
   "metadata": {},
   "source": [
    "Wyrazimy błąd względny w procentach:\n",
    "$$\n",
    "\\delta = \\frac{\\Delta{x}}{x} \\cdot 100\\% = 0.053018... \\cdot 100\\% \\approx 5.301 \\%\n",
    "$$"
   ]
  },
  {
   "cell_type": "markdown",
   "metadata": {},
   "source": [
    "Względny błąd obliczeń wynosi ponad 5% - jest zdecydowanie duży dla sekwencji prostych operacji arytmetycznych.\n",
    "Wynika on przede wszystkim z kumulacji błędów w wyniku zaokrąglania. Zauważmy, że po każdej operacji sumowania zwiększa się wartość zmiennej, przechowującej wynik, natomiast wartość drugiego składnika nie zmienia się, co oznacza, że \"odległość\" między tymi liczbami rośnie. Dodawanie takich dwóch liczb zmiennoprzecinkowych będzie polegało na wyrównywaniu cech składników, a następnie normalizacji mantysy wyniku. Przy znacznej odłegłości mantysa nie zmieści się w zakresie, dlatego zostanie zaokrąglona, powodując utratę dokładności. \n",
    "\n",
    "Warto zauważyć, że na błąd obliczeń także wpływa błąd reprezentacji liczb w systemie komputerowym. "
   ]
  },
  {
   "cell_type": "markdown",
   "metadata": {},
   "source": [
    "#### Badanie zmiany błędu względnego obliczeń"
   ]
  },
  {
   "cell_type": "markdown",
   "metadata": {},
   "source": [
    "Stworzymy wykres zależności wartości błędu względnego od liczby wykonanych operacji. Będziemy raportować wartość błędu co 25000 kroków:"
   ]
  },
  {
   "cell_type": "code",
   "execution_count": null,
   "metadata": {},
   "outputs": [],
   "source": [
    "from matplotlib import pyplot as plt\n",
    "\n",
    "def error_plot(arr,step):\n",
    "    rel_err = []\n",
    "    for i in range(1, N, step):\n",
    "        tmp = abs(v*i - sum_arr[i-1])/(v*i)\n",
    "        rel_err.append(tmp)\n",
    "    return rel_err\n",
    "\n",
    "plt.plot(error_plot(arr,25000))\n",
    "plt.title(\"Wykres zależności wartości błędu względnego od liczby wykonanych operacji (1x25000)\")\n",
    "plt.show()"
   ]
  },
  {
   "cell_type": "markdown",
   "metadata": {},
   "source": [
    "Przeanalizujemy powyższy wykres. Na początku błąd względny wynosi 0.00 - różnica między składnikami jest niewielka. Od pewnego k $\\approx$ 40 normalizacja mantysy powoduje jej zaokrąglenie, dlatego pojawia się utrata precyzji. Ten błąd wpływa na każdą następną operację arytmetyczną, dlatego wykres rośnie tak gwałtownie."
   ]
  },
  {
   "cell_type": "markdown",
   "metadata": {},
   "source": [
    "#### Rekurencyjny algorytm sumowania"
   ]
  },
  {
   "cell_type": "code",
   "execution_count": null,
   "metadata": {},
   "outputs": [],
   "source": [
    "def better_sum(arr, low, high):\n",
    "    if low > high:\n",
    "        return 0\n",
    "    if low == high:\n",
    "        return arr[low]\n",
    "    mid = (low+high)//2\n",
    "    return better_sum(arr,low,mid)+better_sum(arr,mid+1, high)\n",
    "\n",
    "recc_sum = better_sum(arr,0,len(arr)-1)\n",
    "print(recc_sum)"
   ]
  },
  {
   "cell_type": "markdown",
   "metadata": {},
   "source": [
    "Wyznaczymy błędy obliczeń, korzystając ze wzorów (1) i (2):"
   ]
  },
  {
   "cell_type": "code",
   "execution_count": null,
   "metadata": {},
   "outputs": [],
   "source": [
    "absolute_error = abs(v*N - recc_sum)\n",
    "print(absolute_error)"
   ]
  },
  {
   "cell_type": "code",
   "execution_count": null,
   "metadata": {},
   "outputs": [],
   "source": [
    "relative_error = absolute_error / (v*N)\n",
    "print(relative_error)"
   ]
  },
  {
   "cell_type": "markdown",
   "metadata": {},
   "source": [
    "W przypadku sumowania liczb za pomocą rekurencyjnego algorytmu błędy obliczeń wynoszą 0.0 - wynika to z tego, że wartości składników zwiększają się równomiernie (ostatni element tablicy może być mniejszy od pozostałych w przypadku nieparzystej długości tablicy).  "
   ]
  },
  {
   "cell_type": "markdown",
   "metadata": {},
   "source": [
    "Oszacujemy czasy wykonania zwykłej i rekurencyjnej sumy:"
   ]
  },
  {
   "cell_type": "code",
   "execution_count": null,
   "metadata": {},
   "outputs": [],
   "source": [
    "import time\n",
    "start_time = time.time()\n",
    "simple_sum()\n",
    "print(\"Czas wykonania zwykłej sumy: \")\n",
    "print(\"--- %s seconds ---\" % (time.time() - start_time))"
   ]
  },
  {
   "cell_type": "code",
   "execution_count": null,
   "metadata": {},
   "outputs": [],
   "source": [
    "import time\n",
    "start_time = time.time()\n",
    "better_sum(arr,0,len(arr)-1)\n",
    "print(\"Czas wykonania rekurencyjnej sumy: \")\n",
    "print(\"--- %s seconds ---\" % (time.time() - start_time))"
   ]
  },
  {
   "cell_type": "markdown",
   "metadata": {},
   "source": [
    "Zauważmy, że rekurencyjny algorytm też może zwracać niezerowy błąd. Przykładowo, dla następującej tablicy:"
   ]
  },
  {
   "cell_type": "code",
   "execution_count": null,
   "metadata": {},
   "outputs": [],
   "source": [
    "example = [0]*10\n",
    "eps = np.float32(0.00001)\n",
    "for i in range(10):\n",
    "    example[i] = eps*pow(100,i)\n",
    "print(example)\n",
    "\n",
    "acc = np.float32(0.0)\n",
    "for i in range(10):\n",
    "    acc += example[i]"
   ]
  },
  {
   "cell_type": "markdown",
   "metadata": {},
   "source": [
    "Błąd bezwzględny wynosi:"
   ]
  },
  {
   "cell_type": "code",
   "execution_count": null,
   "metadata": {},
   "outputs": [],
   "source": [
    "absolute_error = abs(10101010101010.101010 - acc)\n",
    "print(absolute_error)"
   ]
  },
  {
   "cell_type": "markdown",
   "metadata": {},
   "source": [
    "### Zadanie 2: Algorytm Kahana"
   ]
  },
  {
   "cell_type": "code",
   "execution_count": null,
   "metadata": {},
   "outputs": [],
   "source": [
    "def kahan_algorithm(arr):\n",
    "    res = np.float32(0.0)\n",
    "    err = np.float32(0.0)\n",
    "\n",
    "    for i in range(len(arr)):\n",
    "        y = arr[i] - err\n",
    "        temp = res + y\n",
    "        err = (temp - res) - y\n",
    "        res = temp\n",
    "    return res\n",
    "\n",
    "kahan_res = kahan_algorithm(arr)\n",
    "print(kahan_res)"
   ]
  },
  {
   "cell_type": "markdown",
   "metadata": {},
   "source": [
    "Błąd bezwzględny:"
   ]
  },
  {
   "cell_type": "code",
   "execution_count": null,
   "metadata": {},
   "outputs": [],
   "source": [
    "absolute_error = abs(v*N - kahan_res)\n",
    "print(absolute_error)"
   ]
  },
  {
   "cell_type": "code",
   "execution_count": null,
   "metadata": {},
   "outputs": [],
   "source": [
    "relative_error = absolute_error / (v*N)\n",
    "print(relative_error)"
   ]
  },
  {
   "cell_type": "markdown",
   "metadata": {},
   "source": [
    "Zmienna **err** służy do odejmowania błędu od następnej liczby. Składa się ona z dwóch części: (temp - res) naprawia wyższe bity y, a (-y) naprawia niższe bity y."
   ]
  },
  {
   "cell_type": "markdown",
   "metadata": {},
   "source": [
    "Oszacujemy czas wykonania algorytmu Williama Kahana:"
   ]
  },
  {
   "cell_type": "code",
   "execution_count": null,
   "metadata": {},
   "outputs": [],
   "source": [
    "import time\n",
    "start_time = time.time()\n",
    "kahan_algorithm(arr)\n",
    "print(\"Czas wykonania algorytmu Kahana: \")\n",
    "print(\"--- %s seconds ---\" % (time.time() - start_time))"
   ]
  },
  {
   "cell_type": "markdown",
   "metadata": {},
   "source": [
    "Algorytm Kahana działa znacznie szybciej, niż algorytm rekurencyjnego sumowania."
   ]
  },
  {
   "cell_type": "markdown",
   "metadata": {},
   "source": [
    "### Zadanie 3: Sumy częściowe"
   ]
  },
  {
   "cell_type": "markdown",
   "metadata": {},
   "source": [
    "Rozważmy sumy częściowe szeregu definiującego funkcję dzeta Riemanna:\n",
    "    $$\n",
    "    \\zeta(s) = \\sum_{k=1}^n \\frac{1}{k^{s}}\n",
    "    $$\n",
    "\n",
    "oraz funkcję eta Dirichleta\n",
    "    $$\n",
    "    \\eta(s) = \\sum_{k=1}^n {(-1)}^{k-1}\\frac{1}{k^{s}}\n",
    "    $$"
   ]
  },
  {
   "cell_type": "markdown",
   "metadata": {},
   "source": [
    "Poniższe funkcje służą do obliczania wartości funkcji $\\zeta(s)$ oraz $\\eta(s)$ dwoma sposobami: w przód i w tył:"
   ]
  },
  {
   "cell_type": "code",
   "execution_count": null,
   "metadata": {},
   "outputs": [],
   "source": [
    "def dzeta_forward(result, n, s):\n",
    "    for k in range(1, n):\n",
    "        result += 1 / pow(k,s)\n",
    "    return result\n",
    "\n",
    "\n",
    "def dzeta_backward(result, n, s):\n",
    "    for k in range(n, 0, -1):\n",
    "        result += 1 / pow(k,s)\n",
    "    return result\n",
    "\n",
    "\n",
    "def eta_forward(result, n, s):\n",
    "    for k in range(1, n):\n",
    "        result += pow((-1),(k-1)) / pow(k,s)\n",
    "    return result\n",
    "\n",
    "\n",
    "def eta_backward(result, n, s):\n",
    "    for k in range(n, 0, -1):\n",
    "        result += pow((-1),(k-1)) / pow(k,s)\n",
    "                                     \n",
    "    return result"
   ]
  },
  {
   "cell_type": "markdown",
   "metadata": {},
   "source": [
    "Tworzymy 3 tablice:\n",
    " - **single_prec**: służy do przechowywania liczb pojedynczej precyzji\n",
    " - **double_prec**: służy do przechowywania liczb podwójnej precyzji\n",
    " -  **series_upperbound**: służy do przechowywania liczby iteracji"
   ]
  },
  {
   "cell_type": "code",
   "execution_count": null,
   "metadata": {},
   "outputs": [],
   "source": [
    "single_prec = [np.float32(2.0), np.float32(3.6667), np.float32(5.0), np.float32(7.2), np.float32(10.0)]\n",
    "double_prec = [2.0, 3.6667, 5.0, 7.2, 10.0]\n",
    "series_upperbound = [50, 100, 200, 500, 1000]"
   ]
  },
  {
   "cell_type": "code",
   "execution_count": null,
   "metadata": {},
   "outputs": [],
   "source": [
    "def dzeta():\n",
    "    print(\"DZETA\")\n",
    "    print(\"------------\")\n",
    "    for s in range(len(single_prec)):\n",
    "        print(single_prec[s])\n",
    "        print(\"-----------------\")\n",
    "        for n in range(len(series_upperbound)):\n",
    "            \n",
    "            print(\"Dzeta 1->n: \")\n",
    "            print(dzeta_forward(np.float32(0.0),   series_upperbound[n],    single_prec[s]), end= \" \")\n",
    "            print(dzeta_forward(0.0,            series_upperbound[n],   double_prec[s]))\n",
    "\n",
    "            print(\"Dzeta n->1: \")\n",
    "            print(dzeta_backward(np.float32(0.0),series_upperbound[n],    single_prec[s]), end = \" \")\n",
    "            print(dzeta_backward(0.0,series_upperbound[n],   double_prec[s]))\n",
    "        print(\"------------------\")\n",
    "dzeta()"
   ]
  },
  {
   "cell_type": "code",
   "execution_count": null,
   "metadata": {},
   "outputs": [],
   "source": [
    "def eta():\n",
    "    print(\"ETA\")\n",
    "    print(\"------------\")\n",
    "    for s in range(len(single_prec)):\n",
    "        print(single_prec[s])\n",
    "        print(\"-----------------\")\n",
    "        for n in range(len(series_upperbound)):\n",
    "            \n",
    "            print(\"Eta 1->n: \")\n",
    "            print(eta_forward(np.float32(0.0),   series_upperbound[n],    single_prec[s]), end= \" \")\n",
    "            print(eta_forward(0.0,            series_upperbound[n],   double_prec[s]))\n",
    "\n",
    "            print(\"Eta n->1: \")\n",
    "            print(eta_backward(np.float32(0.0),series_upperbound[n],    single_prec[s]), end = \" \")\n",
    "            print(eta_backward(0.0,series_upperbound[n],   double_prec[s]))\n",
    "        print(\"------------------\")\n",
    "eta()"
   ]
  },
  {
   "cell_type": "markdown",
   "metadata": {},
   "source": [
    "Analizując wyniki, możemy stwierdzić, że operacje arytmetyczne nie są łączne w architekturze komputerowej. Sumując w przód mamy przypadek podobny do zadania 1: do większej liczby liczby coraz mniejsze, co powoduje zaokrąglenie mantysy i utratę dokładności. Sumując w tył do bardzo małej liczby dodajemy wartości coraz większe, zmniejszając \"odległość\" pomiędzy składnikami."
   ]
  },
  {
   "cell_type": "markdown",
   "metadata": {},
   "source": [
    "W przypadku funkcji eta mamy odwrotną sytuację: chcemy uniknąć odejmowania bliskich liczb, bo wynikiem będzie mała liczba, mająca dużo zer tam, gdzie jej \"poprzednicy\" mieli cyfry znaczące. Normalizowanie takiej liczby spowoduje tzw. *catastrophic cancellation*"
   ]
  }
 ],
 "metadata": {
  "kernelspec": {
   "display_name": "Python 3",
   "language": "python",
   "name": "python3"
  },
  "language_info": {
   "codemirror_mode": {
    "name": "ipython",
    "version": 3
   },
   "file_extension": ".py",
   "mimetype": "text/x-python",
   "name": "python",
   "nbconvert_exporter": "python",
   "pygments_lexer": "ipython3",
   "version": "3.7.3"
  }
 },
 "nbformat": 4,
 "nbformat_minor": 2
}
